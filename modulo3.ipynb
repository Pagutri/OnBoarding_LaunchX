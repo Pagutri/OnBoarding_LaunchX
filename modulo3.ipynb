{
 "cells": [
  {
   "cell_type": "markdown",
   "metadata": {},
   "source": [
    "# Módulo 3\n",
    "\n",
    "### Ejercicio - Escribir declaraciones if, else, y elif\n",
    "\n",
    "Para este ejercicio, escribirás una lógica condicional que imprima una advertencia si un asteroide se acerca a la Tierra demasiado rápido. La velocidad del asteroide varía dependiendo de lo cerca que esté del sol, y cualquier velocidad superior a 25 kilómetros por segundo (km/s) merece una advertencia.\n",
    "\n",
    "Un asteroide se acerca, y viaja a una velocidad de 49 km/s."
   ]
  },
  {
   "cell_type": "code",
   "execution_count": 1,
   "metadata": {},
   "outputs": [
    {
     "name": "stdout",
     "output_type": "stream",
     "text": [
      "Advertencia: Asteroide peligroso se acerca.\n"
     ]
    }
   ],
   "source": [
    "# Añadir el código necesario para crear una variable que guarde la velocidad del asteroide.\n",
    "velocidad_asteroide = 49\n",
    "\n",
    "# Escribe una expresión de prueba para calcular si necesita una advertencia.\n",
    "if velocidad_asteroide > 25:\n",
    "    # Agregue las instrucciones que se ejecutarán si la expresión de prueba es true o false.\n",
    "    print(\"Advertencia: Asteroide peligroso se acerca.\")\n",
    "else:\n",
    "    print(\"No hay asteroide peligroso. Pueden continuar con su día.\")"
   ]
  },
  {
   "cell_type": "markdown",
   "metadata": {},
   "source": [
    "Si un asteroide entra en la atmósfera de la Tierra a una velocidad mayor o igual a 20 km/s, a veces produce un rayo de luz que se puede ver desde la Tierra. Escribe la lógica condicional que usa declaraciones if, else, y elif para alertar a las personas de todo el mundo que deben buscar un asteroide en el cielo. ¡Hay uno que se dirige a la tierra ahora a una velocidad de 19 km/s!"
   ]
  },
  {
   "cell_type": "code",
   "execution_count": 3,
   "metadata": {},
   "outputs": [
    {
     "name": "stdout",
     "output_type": "stream",
     "text": [
      "Lamentablemente, el asteroide va muy lento como para poder verlo.\n"
     ]
    }
   ],
   "source": [
    "# Agrega el código para crear una variable para un asteroide que viaja a 19 km/s\n",
    "velocidad_asteroide = 19\n",
    "\n",
    "# Escribe varias expresiones de prueba para determinar si puedes ver el rayo de luz desde la tierra\n",
    "if velocidad_asteroide > 20:\n",
    "    # Agrega las instrucciones que se ejecutarán si las expresiones de prueba son True o False\n",
    "    print(\"¡Es posible que el haz del asteroide se vea ahora mismo en el cielo!\")\n",
    "elif velocidad_asteroide == 20:\n",
    "    print(\"¡Es posible que el haz del asteroide se vea ahora mismo en el cielo!\")\n",
    "else:\n",
    "    print(\"Lamentablemente, el asteroide va muy lento como para poder verlo.\")"
   ]
  },
  {
   "cell_type": "markdown",
   "metadata": {},
   "source": [
    "### Ejercicio: Uso de operadores and y or\n",
    "\n",
    "Los asteroides de menos de 25 metros en su dimensión más grande probablemente se quemarán a medida que entren en la atmósfera de la Tierra.\n",
    "\n",
    "Si una pieza de un asteroide que es más grande que 25 metros pero más pequeña que 1000 metros golpeara la Tierra, causaría mucho daño.\n",
    "\n",
    "La velocidad del asteroide varía en función de lo cerca que esté del sol, y cualquier velocidad superior a 25 kilómetros por segundo (km/s) merece una advertencia.\n",
    "\n",
    "Si un asteroide entra en la atmósfera de la Tierra a una velocidad mayor o igual a 20 km/s, a veces produce un rayo de luz que se puede ver desde la Tierra.\n",
    "\n",
    "Usando toda esta información, escribe un programa que emita la advertencia o información correcta a la gente de la Tierra, según la velocidad y el tamaño de un asteroide. Utiliza instrucciones if, else, y elif, así como los operadores and y or."
   ]
  },
  {
   "cell_type": "code",
   "execution_count": 8,
   "metadata": {},
   "outputs": [
    {
     "name": "stdout",
     "output_type": "stream",
     "text": [
      "Miren al cielo. Es posible que veamos el haz luminoso del asteroide.\n",
      "Asteroide no peligroso.\n"
     ]
    }
   ],
   "source": [
    "# Agrega el código para crear nuevas variables para la velocidad y el tamaño del asteroide\n",
    "velocidad_asteroide = 25\n",
    "tamanio_asteroide = 5\n",
    "\n",
    "# Para probar el código, prueba con varias velocidades y tamaños\n",
    "# Escribe varias expresiones de prueba o combinaciones de expresiones de prueba\n",
    "# para determinar qué mensaje se debe enviar a Tierra.\n",
    "if velocidad_asteroide > 20:\n",
    "    print(\"Miren al cielo. Es posible que veamos el haz luminoso del asteroide.\")\n",
    "elif velocidad_asteroide == 20:\n",
    "    print(\"Miren al cielo. Es posible que veamos el haz luminoso del asteroide.\")\n",
    "else:\n",
    "    print(\"Nada que ver en el cielo.\")\n",
    "\n",
    "if velocidad_asteroide > 25 or (tamanio_asteroide > 25 and tamanio_asteroide < 1000):\n",
    "    print(\"Advertencia: asteroide peligroso se acerca.\")\n",
    "else:\n",
    "    print(\"Asteroide no peligroso.\")"
   ]
  }
 ],
 "metadata": {
  "interpreter": {
   "hash": "50f195ff40a754608008c7bf3d367f12800a5f8b62a282308fa21a31efc86d65"
  },
  "kernelspec": {
   "display_name": "Python 3.7.3 ('base')",
   "language": "python",
   "name": "python3"
  },
  "language_info": {
   "codemirror_mode": {
    "name": "ipython",
    "version": 3
   },
   "file_extension": ".py",
   "mimetype": "text/x-python",
   "name": "python",
   "nbconvert_exporter": "python",
   "pygments_lexer": "ipython3",
   "version": "3.7.3"
  },
  "orig_nbformat": 4
 },
 "nbformat": 4,
 "nbformat_minor": 2
}
